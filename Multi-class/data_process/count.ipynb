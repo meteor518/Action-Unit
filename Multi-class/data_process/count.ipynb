{
 "cells": [
  {
   "cell_type": "code",
   "execution_count": 35,
   "metadata": {},
   "outputs": [
    {
     "name": "stderr",
     "output_type": "stream",
     "text": [
      "Scanning images: 100%|██████████| 42/42 [00:00<00:00, 292.51it/s]\n"
     ]
    },
    {
     "name": "stdout",
     "output_type": "stream",
     "text": [
      "(24665, 13)\n",
      "Found 24665 labels in ../src_wdx/data/dataFile_1000.txt\n",
      "(24528, 13)\n"
     ]
    }
   ],
   "source": [
    "# -*- coding: utf-8 -*-\n",
    "import os\n",
    "import glob\n",
    "import cv2\n",
    "import pandas as pd\n",
    "import mxnet as mx\n",
    "from tqdm import tqdm\n",
    "\n",
    "# 统计类别\n",
    "# Load all txt files\n",
    "aus = [1, 2, 4, 5, 6, 9, 12, 17, 20, 25, 26, 43]\n",
    "names = ['image'] + ['AU{:0>2}'.format(i) for i in aus]\n",
    "cols = [0] + [i + 1 for i in aus]\n",
    "types = dict(zip(names, ['str'] + ['int'] * len(aus)))\n",
    "start_index = 0\n",
    "txt_dfs = []\n",
    "\n",
    "# Scan all images\n",
    "image_dir = '../../src_wdx/data/testset_aligned_112/'\n",
    "all_images = []\n",
    "sub_dirs = [name for name in os.listdir(image_dir) if os.path.isdir(os.path.join(image_dir, name))]\n",
    "for sub_dir in tqdm(sub_dirs, desc='Scanning images'):\n",
    "    image_fnames = [name for name in os.listdir(os.path.join(image_dir, sub_dir))\n",
    "                    if not name.startswith('.') and name.endswith('.jpg')]\n",
    "    all_images.extend(image_fnames)\n",
    "all_images = set(all_images)\n",
    "\n",
    "# Load all txt files\n",
    "path = '../../src_wdx/data/dataFile_1000.txt'\n",
    "txt_df = pd.read_csv(path, sep='\\t', names=names, usecols=cols, dtype=types)\n",
    "print(txt_df.shape)\n",
    "\n",
    "txt_df['image'] = txt_df['image'].str[-22:]\n",
    "txt_df.index = list(range(0, txt_df.shape[0]))\n",
    "txt_dfs.append(txt_df)\n",
    "start_index += txt_df.shape[0]\n",
    "# Concatenate and reset index\n",
    "total_df = pd.concat(txt_dfs)\n",
    "tqdm.write('Found {} labels in {}'.format(total_df.shape[0], path))\n",
    "total_df = total_df[total_df['image'].isin(all_images)]\n",
    "total_df.reset_index(drop=True, inplace=True)\n",
    "total_df.to_csv('../../Data/norm_data/tongji/all_label.csv', index=False)\n",
    "print(total_df.shape)\n",
    "a1 = txt_df.drop_duplicates(subset=names[1:],keep='first')\n",
    "a1 = a1[names[1:]]\n",
    "a1.to_csv('../../Data/norm_data/tongji/classes_999.csv', index=False)\n",
    "a = txt_df.replace(999, 0)\n",
    "b = a.drop_duplicates(subset=names[1:],keep='first')\n",
    "b = b[names[1:]]\n",
    "b.to_csv('../../Data/norm_data/tongji/classes.csv', index=False)"
   ]
  },
  {
   "cell_type": "code",
   "execution_count": 36,
   "metadata": {},
   "outputs": [
    {
     "name": "stdout",
     "output_type": "stream",
     "text": [
      "24528\n",
      "(355,) Done...\n"
     ]
    }
   ],
   "source": [
    "# -*- coding: utf-8 -*-\n",
    "# 统计各类别出现的次数\n",
    "import pandas as pd\n",
    "import numpy as np\n",
    "import mxnet as mx\n",
    "import os\n",
    "\n",
    "csv = pd.read_csv('../../Data/norm_data/tongji/classes.csv')\n",
    "classes = np.array(csv)\n",
    "\n",
    "# 读取label\n",
    "aus = [1, 2, 4, 5, 6, 9, 12, 17, 20, 25, 26, 43]\n",
    "names = ['AU{:0>2}'.format(i) for i in aus]\n",
    "all_label = pd.read_csv('../../Data/norm_data/tongji/all_label.csv')\n",
    "all_label = all_label[names]\n",
    "all_label = np.array(all_label, dtype=np.int)\n",
    "print(len(all_label))\n",
    "\n",
    "C = []\n",
    "for i in range(len(classes)):\n",
    "    count = 0\n",
    "    for j in range(len(all_label)):\n",
    "        label = all_label[j]\n",
    "        valid = np.not_equal(label, 999)\n",
    "        label = np.bitwise_and(valid, label)\n",
    "        if (label == classes[i]).all():\n",
    "            count += 1\n",
    "    C.append(count)\n",
    "print(np.shape(C), end=' ')\n",
    "new_label_names = []\n",
    "for i in range(len(C)):\n",
    "    temp = classes[i]\n",
    "    new_label = 'AU'\n",
    "    for j in range(len(temp)):\n",
    "        if temp[j] == 1:\n",
    "            new_label = new_label + '-' + names[j][2:]\n",
    "    new_label_names.append(new_label)\n",
    "    \n",
    "\n",
    "d = pd.DataFrame(C, index=new_label_names, columns=['count'])\n",
    "d.to_csv('../../Data/norm_data/tongji/all_name_count.csv')\n",
    "print('Done...')"
   ]
  },
  {
   "cell_type": "code",
   "execution_count": 1,
   "metadata": {
    "collapsed": true
   },
   "outputs": [],
   "source": [
    "# 统计样本大于50的类\n",
    "import pandas as pd \n",
    "import numpy as np\n",
    "\n",
    "# 读取类别文件\n",
    "csv = pd.read_csv('../../Data/norm_data/tongji/classes.csv')\n",
    "classes = np.array(csv)\n",
    "name_csv = pd.read_csv('../../Data/norm_data/tongji/all_name_count.csv')\n",
    "count = [i for i in name_csv['count']]\n",
    "name = [i for i in name_csv['name']]\n",
    "\n",
    "new_classes = []\n",
    "new_name = []\n",
    "for i in range(len(count)):\n",
    "    if count[i]>=50:\n",
    "        new_classes.append(classes[i])\n",
    "        new_name.append([name[i], count[i]])\n",
    "        \n",
    "aus = [1, 2, 4, 5, 6, 9, 12, 17, 20, 25, 26, 43]\n",
    "names = ['AU{:0>2}'.format(i) for i in aus]\n",
    "new_classes = pd.DataFrame(new_classes, columns=names)\n",
    "new_name = pd.DataFrame(new_name, columns=['name', 'count'])\n",
    "new_classes.to_csv('../../Data/norm_data/tongji/classes_above50.csv', index=False)\n",
    "new_name.to_csv('../../Data/norm_data/tongji/name_count_above50.csv', index=False)"
   ]
  },
  {
   "cell_type": "code",
   "execution_count": 49,
   "metadata": {},
   "outputs": [
    {
     "name": "stdout",
     "output_type": "stream",
     "text": [
      "Done\n"
     ]
    }
   ],
   "source": [
    "# 去除大于50类中的0类\n",
    "import pandas as pd \n",
    "import numpy as np\n",
    "\n",
    "# 读取类别文件\n",
    "csv = pd.read_csv('../../Data/norm_data/tongji/classes_above50.csv')\n",
    "classes = np.array(csv)\n",
    "name_csv = pd.read_csv('../../Data/norm_data/tongji/name_count_above50.csv')\n",
    "count = [i for i in name_csv['count']]\n",
    "name = [i for i in name_csv['name']]\n",
    "\n",
    "new_classes = []\n",
    "new_name = []\n",
    "for i in range(len(count)):\n",
    "    if sum(classes[i])>0:\n",
    "        new_classes.append(classes[i])\n",
    "        new_name.append([name[i], count[i]])\n",
    "        \n",
    "aus = [1, 2, 4, 5, 6, 9, 12, 17, 20, 25, 26, 43]\n",
    "names = ['AU{:0>2}'.format(i) for i in aus]\n",
    "new_classes = pd.DataFrame(new_classes, columns=names)\n",
    "new_name = pd.DataFrame(new_name, columns=['name', 'count'])\n",
    "new_classes.to_csv('../../Data/norm_data/tongji/classes_above50_no0.csv', index=False)\n",
    "new_name.to_csv('../../Data/norm_data/tongji/name_count_above50_no0.csv', index=False)\n",
    "print('Done')"
   ]
  },
  {
   "cell_type": "code",
   "execution_count": 42,
   "metadata": {},
   "outputs": [
    {
     "name": "stdout",
     "output_type": "stream",
     "text": [
      "Writing 16111 items to all_no0.rec... Done\n"
     ]
    }
   ],
   "source": [
    "# -*- coding: utf-8 -*-\n",
    "# 去除没有AU的数据\n",
    "import pandas as pd\n",
    "import mxnet as mx\n",
    "\n",
    "# 读取rec\n",
    "record_path = '../../Data/norm_data/rec/all.rec'\n",
    "record = mx.recordio.MXIndexedRecordIO(os.path.splitext(record_path)[0] + '.idx', record_path, 'r')\n",
    "indices = record.keys\n",
    "\n",
    "out_path = '../../Data/norm_data/rec/all_no0.rec'\n",
    "out_record = mx.recordio.MXIndexedRecordIO(os.path.splitext(out_path)[0] + '.idx', out_path, 'w')\n",
    "\n",
    "num = 0\n",
    "for i in range(len(indices)):\n",
    "    idx = indices[i]\n",
    "    item = record.read_idx(idx)\n",
    "    header, img = mx.recordio.unpack_img(item)\n",
    "    label = header.label\n",
    "    # new_label = num_items_0\n",
    "    label = np.array(label, dtype=np.int32)\n",
    "    valid = np.not_equal(label, 999)\n",
    "    label = np.bitwise_and(valid, label).astype(np.int32)\n",
    "    if  sum(label) != 0:\n",
    "        out_record.write_idx(num, item)\n",
    "        num += 1\n",
    "    print('\\rWriting {} items to {}... '.format(num, os.path.basename(out_path)), end='')\n",
    "\n",
    "out_record.close()\n",
    "record.close()\n",
    "print('Done')"
   ]
  },
  {
   "cell_type": "code",
   "execution_count": 50,
   "metadata": {
    "scrolled": true
   },
   "outputs": [
    {
     "name": "stdout",
     "output_type": "stream",
     "text": [
      "32\n",
      "Writing 14282 items to train_above50_no0.rec... Done\n"
     ]
    }
   ],
   "source": [
    "# -*- coding: utf-8 -*-\n",
    "# 读取样本数大于50个的数据作为train\n",
    "import pandas as pd\n",
    "import mxnet as mx\n",
    "\n",
    "# 读取类别文件\n",
    "csv = pd.read_csv('../../Data/insightface_data/tongji_version4/classes_above100.csv')\n",
    "classes = np.array(csv)\n",
    "name = pd.read_csv('../../Data/insightface_data/tongji_version4/name_count_above100.csv')\n",
    "count = [i for i in name['count']]\n",
    "print(len(count))\n",
    "# 读取rec\n",
    "record_path = '../../Data/insightface_data/rec_version4/all_no999.rec'\n",
    "record = mx.recordio.MXIndexedRecordIO(os.path.splitext(record_path)[0] + '.idx', record_path, 'r')\n",
    "indices = record.keys\n",
    "\n",
    "out_path = '../../Data/norm_data/rec/train_above50.rec'\n",
    "out_record = mx.recordio.MXIndexedRecordIO(os.path.splitext(out_path)[0] + '.idx', out_path, 'w')\n",
    "\n",
    "num = 0\n",
    "for i in range(len(indices)):\n",
    "    idx = indices[i]\n",
    "    item = record.read_idx(idx)\n",
    "    header, img = mx.recordio.unpack_img(item)\n",
    "    label = header.label\n",
    "    # new_label = num_items_0\n",
    "    label = np.array(label, dtype=np.int32)\n",
    "    valid = np.not_equal(label, 999)\n",
    "    label = np.bitwise_and(valid, label).astype(np.int32)\n",
    "    for i in range(len(classes)):\n",
    "        if (label == classes[i]).all():\n",
    "            out_record.write_idx(num, item)\n",
    "            num += 1\n",
    "            break\n",
    "    print('\\rWriting {} items to {}... '.format(num, os.path.basename(out_path)), end='')\n",
    "\n",
    "out_record.close()\n",
    "record.close()\n",
    "print('Done')"
   ]
  },
  {
   "cell_type": "code",
   "execution_count": 51,
   "metadata": {},
   "outputs": [
    {
     "name": "stdout",
     "output_type": "stream",
     "text": [
      "32\n",
      "Writing 14282 items to train_above50_newlabel.rec... Done.\n"
     ]
    }
   ],
   "source": [
    "# -*- coding: utf-8 -*-\n",
    "# 重新编码\n",
    "import os\n",
    "import argparse\n",
    "import mxnet as mx\n",
    "from mxnet import gluon, autograd, nd\n",
    "from mxnet.gluon.data.vision import transforms as T\n",
    "from tqdm import tqdm\n",
    "import numpy as np\n",
    "from sklearn.preprocessing import normalize\n",
    "import pandas as pd\n",
    "\n",
    "\n",
    "csv = pd.read_csv('../../Data/norm_data/tongji/classes_above50_no0.csv')\n",
    "train_classes = np.array(csv)\n",
    "print(len(train_classes))\n",
    "\n",
    "record_path = '../../Data/norm_data/rec/train_above50_no0.rec'\n",
    "out_record_path = '../../Data/norm_data/rec/train_above50_newlabel.rec'\n",
    "\n",
    "record = mx.recordio.MXIndexedRecordIO(os.path.splitext(record_path)[0] + '.idx',\n",
    "                                       record_path, 'r')\n",
    "\n",
    "indices = record.keys\n",
    "\n",
    "out_record = mx.recordio.MXIndexedRecordIO(os.path.splitext(out_record_path)[0] + '.idx',\n",
    "                                             out_record_path, 'w')\n",
    "\n",
    "num_items_0 = 0\n",
    "for i in range(len(indices)):\n",
    "    idx = indices[i]\n",
    "    item = record.read_idx(idx)\n",
    "    header, img = mx.recordio.unpack_img(item)\n",
    "    label = header.label\n",
    "    # new_label = num_items_0\n",
    "    label = np.array(label, dtype=np.int32)\n",
    "    valid = np.not_equal(label, 999)\n",
    "    label = np.bitwise_and(valid, label).astype(np.int32)\n",
    "    for j in range(len(train_classes)):\n",
    "        if (label == train_classes[j]).all():\n",
    "            new_label = j\n",
    "            break\n",
    "    header = mx.recordio.IRHeader(flag=0, label=new_label, id=i, id2=0)\n",
    "    s = mx.recordio.pack_img(header, img, quality=100, img_fmt='.jpg')\n",
    "    out_record.write_idx(i, s)\n",
    "    num_items_0 += 1\n",
    "    print('\\rWriting {} items to {}... '.format(num_items_0, os.path.basename(out_record_path)), end='')\n",
    "\n",
    "out_record.close()\n",
    "print('Done.')\n"
   ]
  }
 ],
 "metadata": {
  "kernelspec": {
   "display_name": "Python 3",
   "language": "python",
   "name": "python3"
  },
  "language_info": {
   "codemirror_mode": {
    "name": "ipython",
    "version": 3
   },
   "file_extension": ".py",
   "mimetype": "text/x-python",
   "name": "python",
   "nbconvert_exporter": "python",
   "pygments_lexer": "ipython3",
   "version": "3.6.3"
  }
 },
 "nbformat": 4,
 "nbformat_minor": 2
}
